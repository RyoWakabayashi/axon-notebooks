{
 "cells": [
  {
   "cell_type": "code",
   "execution_count": 1,
   "id": "9b8c01f0-0314-4b6b-b4ac-46df5cda556e",
   "metadata": {},
   "outputs": [
    {
     "name": "stderr",
     "output_type": "stream",
     "text": [
      "OpenBLAS WARNING - could not determine the L2 cache size on this system, assuming 256k\n"
     ]
    }
   ],
   "source": [
    "import torchvision\n",
    "import torch"
   ]
  },
  {
   "cell_type": "code",
   "execution_count": 2,
   "id": "2aedba28-4606-454f-a5e2-565da29f48e4",
   "metadata": {},
   "outputs": [
    {
     "name": "stderr",
     "output_type": "stream",
     "text": [
      "Downloading: \"https://download.pytorch.org/models/vgg16-397923af.pth\" to /home/livebook/.cache/torch/hub/checkpoints/vgg16-397923af.pth\n",
      "93.3%"
     ]
    }
   ],
   "source": [
    "net = torchvision.models.vgg16(pretrained = True)"
   ]
  },
  {
   "cell_type": "code",
   "execution_count": 3,
   "id": "ef2545b6-6725-4f0d-8f59-001a1bf02fc8",
   "metadata": {},
   "outputs": [],
   "source": [
    "model_onnx_path = \"/data/vgg16.onnx\"\n",
    "input_names = [ \"input\" ]\n",
    "output_names = [ \"output\" ]"
   ]
  },
  {
   "cell_type": "code",
   "execution_count": 4,
   "id": "4532e0b4-b653-4cf7-b625-87712a9f2618",
   "metadata": {},
   "outputs": [],
   "source": [
    "input_shape = (3, 224, 224)\n",
    "batch_size = 1\n",
    "dummy_input = torch.randn(batch_size, *input_shape)"
   ]
  },
  {
   "cell_type": "code",
   "execution_count": 5,
   "id": "9bfa5959-2939-4e1b-9d75-358042614b72",
   "metadata": {},
   "outputs": [],
   "source": [
    "torch.onnx.export(net, dummy_input, model_onnx_path, \\\n",
    "                  verbose=False, input_names=input_names, output_names=output_names)"
   ]
  },
  {
   "cell_type": "code",
   "execution_count": null,
   "id": "4212259f-6922-4163-9fee-9f40d43059c8",
   "metadata": {},
   "outputs": [],
   "source": []
  }
 ],
 "metadata": {
  "kernelspec": {
   "display_name": "Python 3 (ipykernel)",
   "language": "python",
   "name": "python3"
  },
  "language_info": {
   "codemirror_mode": {
    "name": "ipython",
    "version": 3
   },
   "file_extension": ".py",
   "mimetype": "text/x-python",
   "name": "python",
   "nbconvert_exporter": "python",
   "pygments_lexer": "ipython3",
   "version": "3.9.2"
  }
 },
 "nbformat": 4,
 "nbformat_minor": 5
}
